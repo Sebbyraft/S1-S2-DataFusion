{
 "cells": [
  {
   "cell_type": "markdown",
   "id": "b5df160e-f282-4812-92b5-c33f2b082b72",
   "metadata": {},
   "source": [
    "# **Sentinel-1 and Sentinel-2 data fusion through Deep Learning**\n",
    "![](imgs/fusion_paradigms.png)\n",
    "\n",
    "In this notebook are presented several Deep Learning models to fuse Sentinel-1 and Sentinel-2 data for Land Cover Mapping. \n",
    "\n",
    "More details can be found in our paper [Sebastianelli et al.](https://arxiv.org/abs/2106.11056)"
   ]
  },
  {
   "cell_type": "markdown",
   "id": "4be3f9c3-2e08-46bc-9778-321b3a855b89",
   "metadata": {},
   "source": [
    "**To re-train the models set the *TRAIN* flaf to *True*.**\n",
    "\n",
    "**If *TRAIN = False* pre-trained weights will be loaded.**"
   ]
  },
  {
   "cell_type": "code",
   "execution_count": null,
   "id": "f3ff830c-9766-473d-984a-a67f30b89caa",
   "metadata": {},
   "outputs": [],
   "source": [
    "TRAIN = False"
   ]
  },
  {
   "cell_type": "markdown",
   "id": "6be422c0-7fb2-4f66-835f-a3921c0ea022",
   "metadata": {},
   "source": [
    "**Settings**"
   ]
  },
  {
   "cell_type": "code",
   "execution_count": null,
   "id": "5bf1f7e0-9c7d-4a43-b75a-934df349cded",
   "metadata": {},
   "outputs": [],
   "source": [
    "EPOCHS = 30\n",
    "BATCH_SIZE = 16"
   ]
  },
  {
   "cell_type": "markdown",
   "id": "48d8146f-4bed-44a9-91ab-a166f839b27e",
   "metadata": {},
   "source": [
    "Import libraries"
   ]
  },
  {
   "cell_type": "code",
   "execution_count": 13,
   "id": "gentle-circulation",
   "metadata": {
    "tags": []
   },
   "outputs": [],
   "source": [
    "from tensorflow.keras.models import load_model\n",
    "import matplotlib.pyplot as plt\n",
    "import numpy as np"
   ]
  },
  {
   "cell_type": "markdown",
   "id": "burning-likelihood",
   "metadata": {},
   "source": [
    "# Load dataset\n",
    "\n",
    "The dataset is handeled by the class *DatasetHandler*."
   ]
  },
  {
   "cell_type": "code",
   "execution_count": 10,
   "id": "dying-capacity",
   "metadata": {
    "tags": []
   },
   "outputs": [],
   "source": [
    "from DatasetHandler import DatasetHandler\n",
    "training_handler = DatasetHandler('dataset/training')\n",
    "validation_handler = DatasetHandler('dataset/validation')"
   ]
  },
  {
   "cell_type": "code",
   "execution_count": 11,
   "id": "filled-fluid",
   "metadata": {
    "tags": []
   },
   "outputs": [
    {
     "name": "stdout",
     "output_type": "stream",
     "text": [
      "Dataset classes\n",
      "\t dataset/training/sentinel2/city\n",
      "\t dataset/training/sentinel2/coastline\n",
      "\t dataset/training/sentinel2/lake\n",
      "\t dataset/training/sentinel2/river\n",
      "\t dataset/training/sentinel2/vegetation\n",
      "Dataset dimension\n",
      "\t 450 training samples belonging to  5 classes\n",
      "\t 50 validation samples belonging to  5 classes\n"
     ]
    }
   ],
   "source": [
    "print('Dataset classes')\n",
    "for c in training_handler.classes: print('\\t', c)\n",
    "\n",
    "print('Dataset dimension')\n",
    "print('\\t', len(training_handler.s2_paths), 'training samples belonging to ', len(training_handler.classes), 'classes')\n",
    "print('\\t', len(validation_handler.s2_paths), 'validation samples belonging to ', len(validation_handler.classes), 'classes')"
   ]
  },
  {
   "cell_type": "code",
   "execution_count": 12,
   "id": "collaborative-cliff",
   "metadata": {},
   "outputs": [],
   "source": [
    "classes = []\n",
    "for c in training_handler.classes:\n",
    "    classes.append(c.split('/')[-1])"
   ]
  },
  {
   "cell_type": "markdown",
   "id": "varied-ground",
   "metadata": {},
   "source": [
    "# Sentinel-2 classifier\n",
    "\n",
    "![](imgs/sen2.png)"
   ]
  },
  {
   "cell_type": "code",
   "execution_count": null,
   "id": "impaired-retirement",
   "metadata": {},
   "outputs": [],
   "source": [
    "from CNN_Classifier import CNN_Classifier\n",
    "s2classifier = CNN_Classifier((64,64, 12), 5)"
   ]
  },
  {
   "cell_type": "code",
   "execution_count": null,
   "id": "6d620b92-7ef2-431d-8297-39a477ebb419",
   "metadata": {},
   "outputs": [],
   "source": [
    "if TRAIN == True:\n",
    "    batch_size = BATCH_SIZE\n",
    "    training_loader = training_handler.s2_data_loader(batch_size, (64,64,12))\n",
    "    validation_loader = validation_handler.s2_data_loader(batch_size, (64,64,12))\n",
    "    training_steps = 4*len(training_handler.s2_paths)\n",
    "    validation_steps = 4*len(validation_handler.s2_paths)\n",
    "    epochs = EPOCHS\n",
    "    s2classifier.train_model(epochs, batch_size, training_loader, validation_loader, training_steps, validation_steps)\n",
    "    s2classifier.model.save('weights/S2-classifier.h5')\n",
    "else:\n",
    "    s2classifier.model = load_model('weights/S2-classifier.h5')"
   ]
  },
  {
   "cell_type": "markdown",
   "id": "quantitative-alcohol",
   "metadata": {},
   "source": [
    "# Sentinel-1 Classifier \n",
    "\n",
    "![](imgs/sen1.png)"
   ]
  },
  {
   "cell_type": "code",
   "execution_count": null,
   "id": "bottom-congress",
   "metadata": {},
   "outputs": [],
   "source": [
    "from CNN_Classifier import CNN_Classifier\n",
    "s1classifier = CNN_Classifier((64,64, 2), 5)"
   ]
  },
  {
   "cell_type": "code",
   "execution_count": null,
   "id": "7d82ba98-ad37-4215-a386-f2cdc92e9083",
   "metadata": {},
   "outputs": [],
   "source": [
    "if TRAIN == True:\n",
    "    training_handler = DatasetHandler('dataset/training')\n",
    "    validation_handler = DatasetHandler('dataset/validation')\n",
    "    batch_size = BATCH_SIZE\n",
    "    training_loader = training_handler.s1_data_loader(batch_size, (64,64,2))\n",
    "    validation_loader = validation_handler.s1_data_loader(batch_size, (64,64,2))\n",
    "    training_steps = 4*len(training_handler.s1_paths)\n",
    "    validation_steps = 4*len(validation_handler.s1_paths)\n",
    "    epochs = EPOCHS\n",
    "    s1classifier.train_model(epochs, batch_size, training_loader, validation_loader, training_steps, validation_steps)\n",
    "    s1classifier.model.save('weights/S1-classifier.h5')\n",
    "else:\n",
    "    s1classifier.model = load_model('weights/S1-classifier.h5')"
   ]
  },
  {
   "cell_type": "markdown",
   "id": "solid-exemption",
   "metadata": {
    "tags": []
   },
   "source": [
    "# Early Fusion \n",
    "\n",
    "\n",
    "![](imgs/early-fusion.png)"
   ]
  },
  {
   "cell_type": "code",
   "execution_count": null,
   "id": "expressed-italian",
   "metadata": {},
   "outputs": [],
   "source": [
    "from CNN_Classifier import CNN_Classifier\n",
    "earlyclassifier = CNN_Classifier((64,64, 12+2), 5)"
   ]
  },
  {
   "cell_type": "code",
   "execution_count": null,
   "id": "697975bb-b651-48ab-b4c5-6cd20534267d",
   "metadata": {},
   "outputs": [],
   "source": [
    "if TRAIN == True:\n",
    "    batch_size = BATCH_SIZE\n",
    "    training_loader = training_handler.s2_s1_data_loader_2(batch_size, (64,64,12), (64,64,2))\n",
    "    validation_loader = validation_handler.s2_s1_data_loader_2(batch_size, (64,64,12), (64,64,2))\n",
    "    training_steps = 4*len(training_handler.s2_paths)\n",
    "    validation_steps = 4*len(validation_handler.s2_paths)\n",
    "    epochs = EPOCHS\n",
    "    earlyclassifier.train_model(epochs, batch_size, training_loader, validation_loader, training_steps, validation_steps)\n",
    "    earlyclassifier.model.save('weights/S2-S1-early-classifier.h5')\n",
    "else:\n",
    "    earlyclassifier.model = load_model('weights/S2-S1-early-classifier.h5')"
   ]
  },
  {
   "cell_type": "markdown",
   "id": "exposed-sampling",
   "metadata": {},
   "source": [
    "# Joint Fusion\n",
    "\n",
    "![](imgs/joint-fusion.png)"
   ]
  },
  {
   "cell_type": "code",
   "execution_count": null,
   "id": "answering-cardiff",
   "metadata": {},
   "outputs": [],
   "source": [
    "from Fusion_Classifier import Fusion_Classifier\n",
    "fclassifier = Fusion_Classifier((64,64, 12), (64,64,2), 5)"
   ]
  },
  {
   "cell_type": "code",
   "execution_count": null,
   "id": "da1718fb-7a49-47f4-bfcd-ea2ce046b541",
   "metadata": {},
   "outputs": [],
   "source": [
    "if TRAIN == True:\n",
    "    batch_size = BATCH_SIZE\n",
    "    training_loader = training_handler.s2_s1_data_loader(batch_size, (64,64,12), (64,64,2))\n",
    "    validation_loader = validation_handler.s2_s1_data_loader(batch_size, (64,64,12), (64,64,2))\n",
    "    training_steps = 4*len(training_handler.s1_paths)\n",
    "    validation_steps = 4*len(validation_handler.s1_paths)\n",
    "    epochs = EPOCHS\n",
    "    fclassifier.train_model(epochs, batch_size, training_loader, validation_loader, training_steps, validation_steps)\n",
    "    fclassifier.model.save('weights/S2-S1-classifier.h5')\n",
    "else:\n",
    "    fclassifier.model = load_model('weights/S2-S1-classifier.h5')"
   ]
  },
  {
   "cell_type": "markdown",
   "id": "bbeb4ec3-6d39-48df-b794-bdad4f3fa7f0",
   "metadata": {},
   "source": [
    "# Late Fusion\n",
    "\n",
    "![](imgs/late-fusion.png)"
   ]
  },
  {
   "cell_type": "code",
   "execution_count": null,
   "id": "31bc509d-2355-4063-9841-cbb9b9fb722c",
   "metadata": {},
   "outputs": [],
   "source": [
    "s2classifier = CNN_Classifier((64,64, 12), 5)\n",
    "s1classifier = CNN_Classifier((64,64, 2), 5)\n",
    "s2classifier.model = load_model('weights/S2-classifier.h5')\n",
    "s1classifier.model = load_model('weights/S1-classifier.h5')"
   ]
  },
  {
   "cell_type": "code",
   "execution_count": null,
   "id": "07bec00a-2648-4027-9432-3e80523e0c51",
   "metadata": {},
   "outputs": [],
   "source": [
    "validation_loader = validation_handler.s2_s1_data_loader(10*len(validation_handler.s1_paths), (64,64,12), (64,64,2))\n",
    "s2_s1, g_truth = next(iter(validation_loader))\n",
    "s2_pre = s2classifier.model.predict(s2_s1[0])\n",
    "s1_pre = s1classifier.model.predict(s2_s1[1])"
   ]
  },
  {
   "cell_type": "markdown",
   "id": "c705f1bd-c48c-49f6-bb4a-022cd836dc96",
   "metadata": {},
   "source": [
    "## Mean Late Fusion"
   ]
  },
  {
   "cell_type": "code",
   "execution_count": null,
   "id": "23badf92-922d-46f3-8182-547c5c75660a",
   "metadata": {},
   "outputs": [],
   "source": [
    "late_sum = []\n",
    "for i in range(s2_pre.shape[0]):\n",
    "        late_sum.append(np.argmax((s1_pre[i]+s2_pre[i])))"
   ]
  },
  {
   "cell_type": "markdown",
   "id": "5cc2a110-0e2e-4258-9184-51252a388058",
   "metadata": {},
   "source": [
    "## Weighted Late Fusion"
   ]
  },
  {
   "cell_type": "code",
   "execution_count": null,
   "id": "501c31d5-619a-43bd-882f-eec296037c42",
   "metadata": {},
   "outputs": [],
   "source": [
    "late_weight = []\n",
    "w1 = np.array([0, 1, 1, 1, 0])\n",
    "w2 = 1 - w1\n",
    "\n",
    "for i in range(s2_pre.shape[0]):\n",
    "        late_weight.append(np.argmax((w1*s1_pre[i]+w2*s2_pre[i])))"
   ]
  },
  {
   "cell_type": "markdown",
   "id": "dedicated-closing",
   "metadata": {},
   "source": [
    "# Results"
   ]
  },
  {
   "cell_type": "markdown",
   "id": "eeb365af-fb9f-4855-bb46-6a74b7c2db67",
   "metadata": {},
   "source": [
    "![](imgs/metrics.png)"
   ]
  },
  {
   "cell_type": "code",
   "execution_count": null,
   "id": "f7eadd9e-09b7-460d-8bdb-830628275cdd",
   "metadata": {},
   "outputs": [],
   "source": []
  }
 ],
 "metadata": {
  "kernelspec": {
   "display_name": "Python 3 (ipykernel)",
   "language": "python",
   "name": "python3"
  },
  "language_info": {
   "codemirror_mode": {
    "name": "ipython",
    "version": 3
   },
   "file_extension": ".py",
   "mimetype": "text/x-python",
   "name": "python",
   "nbconvert_exporter": "python",
   "pygments_lexer": "ipython3",
   "version": "3.9.7"
  }
 },
 "nbformat": 4,
 "nbformat_minor": 5
}
